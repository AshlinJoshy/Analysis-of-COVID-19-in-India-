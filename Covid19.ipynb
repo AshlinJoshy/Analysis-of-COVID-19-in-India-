{
 "cells": [
  {
   "cell_type": "markdown",
   "id": "cba77820",
   "metadata": {},
   "source": [
    "## Importing libraries "
   ]
  },
  {
   "cell_type": "code",
   "execution_count": 1,
   "id": "10987a27",
   "metadata": {},
   "outputs": [],
   "source": [
    "import pandas as pd \n",
    "import numpy as np \n",
    "import matplotlib.pyplot as plt"
   ]
  },
  {
   "cell_type": "markdown",
   "id": "90d7c661",
   "metadata": {},
   "source": [
    "## Reading the csv File "
   ]
  },
  {
   "cell_type": "code",
   "execution_count": 2,
   "id": "4970cfce",
   "metadata": {},
   "outputs": [],
   "source": [
    " df=pd.read_csv(\"Covid19_July1-July 7th.csv\")"
   ]
  },
  {
   "cell_type": "code",
   "execution_count": 3,
   "id": "c5efc5c9",
   "metadata": {},
   "outputs": [
    {
     "data": {
      "text/html": [
       "<div>\n",
       "<style scoped>\n",
       "    .dataframe tbody tr th:only-of-type {\n",
       "        vertical-align: middle;\n",
       "    }\n",
       "\n",
       "    .dataframe tbody tr th {\n",
       "        vertical-align: top;\n",
       "    }\n",
       "\n",
       "    .dataframe thead th {\n",
       "        text-align: right;\n",
       "    }\n",
       "</style>\n",
       "<table border=\"1\" class=\"dataframe\">\n",
       "  <thead>\n",
       "    <tr style=\"text-align: right;\">\n",
       "      <th></th>\n",
       "      <th>Entry_ID</th>\n",
       "      <th>State Patient Number</th>\n",
       "      <th>Date Announced</th>\n",
       "      <th>Age Bracket</th>\n",
       "      <th>Gender</th>\n",
       "      <th>Detected City</th>\n",
       "      <th>Detected District</th>\n",
       "      <th>Detected State</th>\n",
       "      <th>State code</th>\n",
       "      <th>Num Cases</th>\n",
       "      <th>Current Status</th>\n",
       "      <th>Contracted from which Patient (Suspected)</th>\n",
       "      <th>Notes</th>\n",
       "      <th>Source_1</th>\n",
       "      <th>Source_2</th>\n",
       "      <th>Source_3</th>\n",
       "      <th>Nationality</th>\n",
       "      <th>Type of transmission</th>\n",
       "      <th>Status Change Date</th>\n",
       "      <th>Patient Number</th>\n",
       "    </tr>\n",
       "  </thead>\n",
       "  <tbody>\n",
       "    <tr>\n",
       "      <th>0</th>\n",
       "      <td>94849</td>\n",
       "      <td>NaN</td>\n",
       "      <td>01/07/2020</td>\n",
       "      <td>NaN</td>\n",
       "      <td>NaN</td>\n",
       "      <td>NaN</td>\n",
       "      <td>Unassigned</td>\n",
       "      <td>State Unassigned</td>\n",
       "      <td>UN</td>\n",
       "      <td>-89</td>\n",
       "      <td>Hospitalized</td>\n",
       "      <td>NaN</td>\n",
       "      <td>NaN</td>\n",
       "      <td>https://www.mohfw.gov.in/</td>\n",
       "      <td>NaN</td>\n",
       "      <td>NaN</td>\n",
       "      <td>NaN</td>\n",
       "      <td>NaN</td>\n",
       "      <td>NaN</td>\n",
       "      <td>NaN</td>\n",
       "    </tr>\n",
       "    <tr>\n",
       "      <th>1</th>\n",
       "      <td>94850</td>\n",
       "      <td>NaN</td>\n",
       "      <td>01/07/2020</td>\n",
       "      <td>NaN</td>\n",
       "      <td>NaN</td>\n",
       "      <td>NaN</td>\n",
       "      <td>NaN</td>\n",
       "      <td>Nagaland</td>\n",
       "      <td>NL</td>\n",
       "      <td>21</td>\n",
       "      <td>Hospitalized</td>\n",
       "      <td>NaN</td>\n",
       "      <td>10 from Peren QC, 8 from Phek QC , 2 from Kohi...</td>\n",
       "      <td>https://twitter.com/pangnyu/status/12781884080...</td>\n",
       "      <td>NaN</td>\n",
       "      <td>NaN</td>\n",
       "      <td>NaN</td>\n",
       "      <td>NaN</td>\n",
       "      <td>NaN</td>\n",
       "      <td>NaN</td>\n",
       "    </tr>\n",
       "    <tr>\n",
       "      <th>2</th>\n",
       "      <td>94851</td>\n",
       "      <td>NaN</td>\n",
       "      <td>01/07/2020</td>\n",
       "      <td>NaN</td>\n",
       "      <td>NaN</td>\n",
       "      <td>NaN</td>\n",
       "      <td>Angul</td>\n",
       "      <td>Odisha</td>\n",
       "      <td>OR</td>\n",
       "      <td>1</td>\n",
       "      <td>Hospitalized</td>\n",
       "      <td>NaN</td>\n",
       "      <td>NaN</td>\n",
       "      <td>https://twitter.com/IPR_Odisha/status/12781959...</td>\n",
       "      <td>NaN</td>\n",
       "      <td>NaN</td>\n",
       "      <td>NaN</td>\n",
       "      <td>NaN</td>\n",
       "      <td>NaN</td>\n",
       "      <td>NaN</td>\n",
       "    </tr>\n",
       "    <tr>\n",
       "      <th>3</th>\n",
       "      <td>94852</td>\n",
       "      <td>NaN</td>\n",
       "      <td>01/07/2020</td>\n",
       "      <td>NaN</td>\n",
       "      <td>NaN</td>\n",
       "      <td>NaN</td>\n",
       "      <td>Balasore</td>\n",
       "      <td>Odisha</td>\n",
       "      <td>OR</td>\n",
       "      <td>2</td>\n",
       "      <td>Hospitalized</td>\n",
       "      <td>NaN</td>\n",
       "      <td>NaN</td>\n",
       "      <td>https://twitter.com/IPR_Odisha/status/12781959...</td>\n",
       "      <td>NaN</td>\n",
       "      <td>NaN</td>\n",
       "      <td>NaN</td>\n",
       "      <td>NaN</td>\n",
       "      <td>NaN</td>\n",
       "      <td>NaN</td>\n",
       "    </tr>\n",
       "    <tr>\n",
       "      <th>4</th>\n",
       "      <td>94853</td>\n",
       "      <td>NaN</td>\n",
       "      <td>01/07/2020</td>\n",
       "      <td>NaN</td>\n",
       "      <td>NaN</td>\n",
       "      <td>NaN</td>\n",
       "      <td>Bargarh</td>\n",
       "      <td>Odisha</td>\n",
       "      <td>OR</td>\n",
       "      <td>12</td>\n",
       "      <td>Hospitalized</td>\n",
       "      <td>NaN</td>\n",
       "      <td>NaN</td>\n",
       "      <td>https://twitter.com/IPR_Odisha/status/12781959...</td>\n",
       "      <td>NaN</td>\n",
       "      <td>NaN</td>\n",
       "      <td>NaN</td>\n",
       "      <td>NaN</td>\n",
       "      <td>NaN</td>\n",
       "      <td>NaN</td>\n",
       "    </tr>\n",
       "    <tr>\n",
       "      <th>...</th>\n",
       "      <td>...</td>\n",
       "      <td>...</td>\n",
       "      <td>...</td>\n",
       "      <td>...</td>\n",
       "      <td>...</td>\n",
       "      <td>...</td>\n",
       "      <td>...</td>\n",
       "      <td>...</td>\n",
       "      <td>...</td>\n",
       "      <td>...</td>\n",
       "      <td>...</td>\n",
       "      <td>...</td>\n",
       "      <td>...</td>\n",
       "      <td>...</td>\n",
       "      <td>...</td>\n",
       "      <td>...</td>\n",
       "      <td>...</td>\n",
       "      <td>...</td>\n",
       "      <td>...</td>\n",
       "      <td>...</td>\n",
       "    </tr>\n",
       "    <tr>\n",
       "      <th>22790</th>\n",
       "      <td>117831</td>\n",
       "      <td>NaN</td>\n",
       "      <td>07/07/2020</td>\n",
       "      <td>NaN</td>\n",
       "      <td>NaN</td>\n",
       "      <td>NaN</td>\n",
       "      <td>Dadra and Nagar Haveli</td>\n",
       "      <td>Dadra and Nagar Haveli and Daman and Diu</td>\n",
       "      <td>DN</td>\n",
       "      <td>2</td>\n",
       "      <td>Hospitalized</td>\n",
       "      <td>NaN</td>\n",
       "      <td>NaN</td>\n",
       "      <td>https://twitter.com/DnhPublicity/status/128081...</td>\n",
       "      <td>NaN</td>\n",
       "      <td>NaN</td>\n",
       "      <td>NaN</td>\n",
       "      <td>NaN</td>\n",
       "      <td>NaN</td>\n",
       "      <td>NaN</td>\n",
       "    </tr>\n",
       "    <tr>\n",
       "      <th>22791</th>\n",
       "      <td>118420</td>\n",
       "      <td>NaN</td>\n",
       "      <td>07/07/2020</td>\n",
       "      <td>NaN</td>\n",
       "      <td>NaN</td>\n",
       "      <td>NaN</td>\n",
       "      <td>NaN</td>\n",
       "      <td>Sikkim</td>\n",
       "      <td>SK</td>\n",
       "      <td>-9</td>\n",
       "      <td>Recovered</td>\n",
       "      <td>NaN</td>\n",
       "      <td>NaN</td>\n",
       "      <td>https://twitter.com/sikkimgovt/status/12808732...</td>\n",
       "      <td>NaN</td>\n",
       "      <td>NaN</td>\n",
       "      <td>NaN</td>\n",
       "      <td>NaN</td>\n",
       "      <td>NaN</td>\n",
       "      <td>NaN</td>\n",
       "    </tr>\n",
       "    <tr>\n",
       "      <th>22792</th>\n",
       "      <td>118421</td>\n",
       "      <td>NaN</td>\n",
       "      <td>07/07/2020</td>\n",
       "      <td>NaN</td>\n",
       "      <td>NaN</td>\n",
       "      <td>NaN</td>\n",
       "      <td>NaN</td>\n",
       "      <td>Sikkim</td>\n",
       "      <td>SK</td>\n",
       "      <td>-6</td>\n",
       "      <td>Recovered</td>\n",
       "      <td>NaN</td>\n",
       "      <td>NaN</td>\n",
       "      <td>https://twitter.com/sikkimgovt/status/12808732...</td>\n",
       "      <td>NaN</td>\n",
       "      <td>NaN</td>\n",
       "      <td>NaN</td>\n",
       "      <td>NaN</td>\n",
       "      <td>NaN</td>\n",
       "      <td>NaN</td>\n",
       "    </tr>\n",
       "    <tr>\n",
       "      <th>22793</th>\n",
       "      <td>121323</td>\n",
       "      <td>NaN</td>\n",
       "      <td>07/07/2020</td>\n",
       "      <td>NaN</td>\n",
       "      <td>NaN</td>\n",
       "      <td>NaN</td>\n",
       "      <td>Kozhikode</td>\n",
       "      <td>Kerala</td>\n",
       "      <td>KL</td>\n",
       "      <td>-1</td>\n",
       "      <td>Recovered</td>\n",
       "      <td>NaN</td>\n",
       "      <td>NaN</td>\n",
       "      <td>http://dhs.kerala.gov.in/wp-content/uploads/20...</td>\n",
       "      <td>NaN</td>\n",
       "      <td>NaN</td>\n",
       "      <td>NaN</td>\n",
       "      <td>NaN</td>\n",
       "      <td>NaN</td>\n",
       "      <td>NaN</td>\n",
       "    </tr>\n",
       "    <tr>\n",
       "      <th>22794</th>\n",
       "      <td>121324</td>\n",
       "      <td>NaN</td>\n",
       "      <td>07/07/2020</td>\n",
       "      <td>NaN</td>\n",
       "      <td>NaN</td>\n",
       "      <td>NaN</td>\n",
       "      <td>Wayanad</td>\n",
       "      <td>Kerala</td>\n",
       "      <td>KL</td>\n",
       "      <td>1</td>\n",
       "      <td>Recovered</td>\n",
       "      <td>NaN</td>\n",
       "      <td>NaN</td>\n",
       "      <td>http://dhs.kerala.gov.in/wp-content/uploads/20...</td>\n",
       "      <td>NaN</td>\n",
       "      <td>NaN</td>\n",
       "      <td>NaN</td>\n",
       "      <td>NaN</td>\n",
       "      <td>NaN</td>\n",
       "      <td>NaN</td>\n",
       "    </tr>\n",
       "  </tbody>\n",
       "</table>\n",
       "<p>22795 rows × 20 columns</p>\n",
       "</div>"
      ],
      "text/plain": [
       "       Entry_ID State Patient Number Date Announced  Age Bracket Gender  \\\n",
       "0         94849                  NaN     01/07/2020          NaN    NaN   \n",
       "1         94850                  NaN     01/07/2020          NaN    NaN   \n",
       "2         94851                  NaN     01/07/2020          NaN    NaN   \n",
       "3         94852                  NaN     01/07/2020          NaN    NaN   \n",
       "4         94853                  NaN     01/07/2020          NaN    NaN   \n",
       "...         ...                  ...            ...          ...    ...   \n",
       "22790    117831                  NaN     07/07/2020          NaN    NaN   \n",
       "22791    118420                  NaN     07/07/2020          NaN    NaN   \n",
       "22792    118421                  NaN     07/07/2020          NaN    NaN   \n",
       "22793    121323                  NaN     07/07/2020          NaN    NaN   \n",
       "22794    121324                  NaN     07/07/2020          NaN    NaN   \n",
       "\n",
       "      Detected City       Detected District  \\\n",
       "0               NaN              Unassigned   \n",
       "1               NaN                     NaN   \n",
       "2               NaN                   Angul   \n",
       "3               NaN                Balasore   \n",
       "4               NaN                 Bargarh   \n",
       "...             ...                     ...   \n",
       "22790           NaN  Dadra and Nagar Haveli   \n",
       "22791           NaN                     NaN   \n",
       "22792           NaN                     NaN   \n",
       "22793           NaN               Kozhikode   \n",
       "22794           NaN                 Wayanad   \n",
       "\n",
       "                                 Detected State State code  Num Cases  \\\n",
       "0                              State Unassigned         UN        -89   \n",
       "1                                      Nagaland         NL         21   \n",
       "2                                        Odisha         OR          1   \n",
       "3                                        Odisha         OR          2   \n",
       "4                                        Odisha         OR         12   \n",
       "...                                         ...        ...        ...   \n",
       "22790  Dadra and Nagar Haveli and Daman and Diu         DN          2   \n",
       "22791                                    Sikkim         SK         -9   \n",
       "22792                                    Sikkim         SK         -6   \n",
       "22793                                    Kerala         KL         -1   \n",
       "22794                                    Kerala         KL          1   \n",
       "\n",
       "      Current Status  Contracted from which Patient (Suspected)  \\\n",
       "0       Hospitalized                                        NaN   \n",
       "1       Hospitalized                                        NaN   \n",
       "2       Hospitalized                                        NaN   \n",
       "3       Hospitalized                                        NaN   \n",
       "4       Hospitalized                                        NaN   \n",
       "...              ...                                        ...   \n",
       "22790   Hospitalized                                        NaN   \n",
       "22791      Recovered                                        NaN   \n",
       "22792      Recovered                                        NaN   \n",
       "22793      Recovered                                        NaN   \n",
       "22794      Recovered                                        NaN   \n",
       "\n",
       "                                                   Notes  \\\n",
       "0                                                    NaN   \n",
       "1      10 from Peren QC, 8 from Phek QC , 2 from Kohi...   \n",
       "2                                                    NaN   \n",
       "3                                                    NaN   \n",
       "4                                                    NaN   \n",
       "...                                                  ...   \n",
       "22790                                                NaN   \n",
       "22791                                                NaN   \n",
       "22792                                                NaN   \n",
       "22793                                                NaN   \n",
       "22794                                                NaN   \n",
       "\n",
       "                                                Source_1 Source_2  Source_3  \\\n",
       "0                              https://www.mohfw.gov.in/      NaN       NaN   \n",
       "1      https://twitter.com/pangnyu/status/12781884080...      NaN       NaN   \n",
       "2      https://twitter.com/IPR_Odisha/status/12781959...      NaN       NaN   \n",
       "3      https://twitter.com/IPR_Odisha/status/12781959...      NaN       NaN   \n",
       "4      https://twitter.com/IPR_Odisha/status/12781959...      NaN       NaN   \n",
       "...                                                  ...      ...       ...   \n",
       "22790  https://twitter.com/DnhPublicity/status/128081...      NaN       NaN   \n",
       "22791  https://twitter.com/sikkimgovt/status/12808732...      NaN       NaN   \n",
       "22792  https://twitter.com/sikkimgovt/status/12808732...      NaN       NaN   \n",
       "22793  http://dhs.kerala.gov.in/wp-content/uploads/20...      NaN       NaN   \n",
       "22794  http://dhs.kerala.gov.in/wp-content/uploads/20...      NaN       NaN   \n",
       "\n",
       "       Nationality  Type of transmission  Status Change Date  Patient Number  \n",
       "0              NaN                   NaN                 NaN             NaN  \n",
       "1              NaN                   NaN                 NaN             NaN  \n",
       "2              NaN                   NaN                 NaN             NaN  \n",
       "3              NaN                   NaN                 NaN             NaN  \n",
       "4              NaN                   NaN                 NaN             NaN  \n",
       "...            ...                   ...                 ...             ...  \n",
       "22790          NaN                   NaN                 NaN             NaN  \n",
       "22791          NaN                   NaN                 NaN             NaN  \n",
       "22792          NaN                   NaN                 NaN             NaN  \n",
       "22793          NaN                   NaN                 NaN             NaN  \n",
       "22794          NaN                   NaN                 NaN             NaN  \n",
       "\n",
       "[22795 rows x 20 columns]"
      ]
     },
     "execution_count": 3,
     "metadata": {},
     "output_type": "execute_result"
    }
   ],
   "source": [
    "df"
   ]
  },
  {
   "cell_type": "code",
   "execution_count": null,
   "id": "998ee83e",
   "metadata": {},
   "outputs": [],
   "source": []
  },
  {
   "cell_type": "code",
   "execution_count": null,
   "id": "1417b0ab",
   "metadata": {},
   "outputs": [],
   "source": []
  },
  {
   "cell_type": "code",
   "execution_count": null,
   "id": "095a361d",
   "metadata": {},
   "outputs": [],
   "source": []
  },
  {
   "cell_type": "markdown",
   "id": "869e02a7",
   "metadata": {},
   "source": [
    "## Inspecting the dataframe"
   ]
  },
  {
   "cell_type": "code",
   "execution_count": 4,
   "id": "7e3a6adf",
   "metadata": {},
   "outputs": [
    {
     "name": "stdout",
     "output_type": "stream",
     "text": [
      "<class 'pandas.core.frame.DataFrame'>\n",
      "RangeIndex: 22795 entries, 0 to 22794\n",
      "Data columns (total 20 columns):\n",
      " #   Column                                     Non-Null Count  Dtype  \n",
      "---  ------                                     --------------  -----  \n",
      " 0   Entry_ID                                   22795 non-null  int64  \n",
      " 1   State Patient Number                       14924 non-null  object \n",
      " 2   Date Announced                             22795 non-null  object \n",
      " 3   Age Bracket                                12538 non-null  float64\n",
      " 4   Gender                                     12583 non-null  object \n",
      " 5   Detected City                              772 non-null    object \n",
      " 6   Detected District                          22556 non-null  object \n",
      " 7   Detected State                             22795 non-null  object \n",
      " 8   State code                                 22795 non-null  object \n",
      " 9   Num Cases                                  22795 non-null  int64  \n",
      " 10  Current Status                             22795 non-null  object \n",
      " 11  Contracted from which Patient (Suspected)  0 non-null      float64\n",
      " 12  Notes                                      12408 non-null  object \n",
      " 13  Source_1                                   22618 non-null  object \n",
      " 14  Source_2                                   97 non-null     object \n",
      " 15  Source_3                                   0 non-null      float64\n",
      " 16  Nationality                                0 non-null      float64\n",
      " 17  Type of transmission                       0 non-null      float64\n",
      " 18  Status Change Date                         0 non-null      float64\n",
      " 19  Patient Number                             0 non-null      float64\n",
      "dtypes: float64(7), int64(2), object(11)\n",
      "memory usage: 3.5+ MB\n"
     ]
    }
   ],
   "source": [
    "df.info()"
   ]
  },
  {
   "cell_type": "markdown",
   "id": "c520d367",
   "metadata": {},
   "source": [
    "## Inspecting null values in each columns"
   ]
  },
  {
   "cell_type": "code",
   "execution_count": 5,
   "id": "86e795ff",
   "metadata": {},
   "outputs": [
    {
     "data": {
      "text/plain": [
       "Patient Number                               100.000000\n",
       "Status Change Date                           100.000000\n",
       "Type of transmission                         100.000000\n",
       "Nationality                                  100.000000\n",
       "Source_3                                     100.000000\n",
       "Contracted from which Patient (Suspected)    100.000000\n",
       "Source_2                                      99.574468\n",
       "Detected City                                 96.613292\n",
       "Notes                                         45.567010\n",
       "Age Bracket                                   44.996710\n",
       "Gender                                        44.799298\n",
       "State Patient Number                          34.529502\n",
       "Detected District                              1.048476\n",
       "Source_1                                       0.776486\n",
       "Entry_ID                                       0.000000\n",
       "Num Cases                                      0.000000\n",
       "State code                                     0.000000\n",
       "Detected State                                 0.000000\n",
       "Date Announced                                 0.000000\n",
       "Current Status                                 0.000000\n",
       "dtype: float64"
      ]
     },
     "execution_count": 5,
     "metadata": {},
     "output_type": "execute_result"
    }
   ],
   "source": [
    "df.isnull().sum().sort_values(ascending=False)/len(df)*100"
   ]
  },
  {
   "cell_type": "markdown",
   "id": "62a5472d",
   "metadata": {},
   "source": [
    "## Inspecting null values in rows "
   ]
  },
  {
   "cell_type": "code",
   "execution_count": 6,
   "id": "2db1153a",
   "metadata": {},
   "outputs": [
    {
     "data": {
      "text/plain": [
       "12453    14\n",
       "8790     14\n",
       "8789     14\n",
       "16725    13\n",
       "16796    13\n",
       "         ..\n",
       "11557     8\n",
       "11558     8\n",
       "11559     8\n",
       "11397     8\n",
       "19383     7\n",
       "Length: 22795, dtype: int64"
      ]
     },
     "execution_count": 6,
     "metadata": {},
     "output_type": "execute_result"
    }
   ],
   "source": [
    "df.isnull().sum(axis=1).sort_values(ascending=False)\n"
   ]
  },
  {
   "cell_type": "code",
   "execution_count": 7,
   "id": "c91d0c05",
   "metadata": {},
   "outputs": [],
   "source": [
    "df_nonHosp=df[df['Current Status']==\"Hospitalized\"]"
   ]
  },
  {
   "cell_type": "markdown",
   "id": "7f9c646e",
   "metadata": {},
   "source": [
    "## Total number of cases on average per day "
   ]
  },
  {
   "cell_type": "code",
   "execution_count": 8,
   "id": "183a64af",
   "metadata": {},
   "outputs": [
    {
     "data": {
      "text/plain": [
       "Date Announced\n",
       "01/07/2020    19429\n",
       "02/07/2020    21947\n",
       "03/07/2020    22718\n",
       "04/07/2020    24018\n",
       "05/07/2020    23942\n",
       "06/07/2020    22500\n",
       "07/07/2020    23147\n",
       "11/06/2020        0\n",
       "12/06/2020        0\n",
       "13/06/2020        0\n",
       "14/06/2020        0\n",
       "15/06/2020        0\n",
       "16/06/2020        0\n",
       "17/06/2020        0\n",
       "19/06/2020        0\n",
       "20/06/2020        0\n",
       "21/06/2020        0\n",
       "22/06/2020        0\n",
       "23/06/2020        0\n",
       "25/06/2020        0\n",
       "26/06/2020        0\n",
       "28/06/2020        0\n",
       "29/06/2020        0\n",
       "30/06/2020        0\n",
       "Name: Num Cases, dtype: int64"
      ]
     },
     "execution_count": 8,
     "metadata": {},
     "output_type": "execute_result"
    }
   ],
   "source": [
    "D=df_nonHosp.groupby('Date Announced')['Num Cases'].sum()\n",
    "D"
   ]
  },
  {
   "cell_type": "code",
   "execution_count": 9,
   "id": "19293717",
   "metadata": {},
   "outputs": [
    {
     "data": {
      "text/plain": [
       "<AxesSubplot:xlabel='Date Announced'>"
      ]
     },
     "execution_count": 9,
     "metadata": {},
     "output_type": "execute_result"
    },
    {
     "data": {
      "image/png": "[encoded data removed]",
      "text/plain": [
       "<Figure size 432x288 with 1 Axes>"
      ]
     },
     "metadata": {
      "needs_background": "light"
     },
     "output_type": "display_data"
    }
   ],
   "source": [
    "D.plot.bar()"
   ]
  },
  {
   "cell_type": "markdown",
   "id": "76c5259e",
   "metadata": {},
   "source": [
    "## Total Number of Male/Female Affected percent vise"
   ]
  },
  {
   "cell_type": "code",
   "execution_count": 10,
   "id": "bc3d024f",
   "metadata": {},
   "outputs": [
    {
     "data": {
      "text/plain": [
       "Gender\n",
       "F             27.064020\n",
       "M             49.916008\n",
       "Non-Binary     0.031108\n",
       "Name: Num Cases, dtype: float64"
      ]
     },
     "execution_count": 10,
     "metadata": {},
     "output_type": "execute_result"
    }
   ],
   "source": [
    "df_nonHosp.groupby('Gender')['Num Cases'].sum()/len(df[df['Current Status']==\"Hospitalized\"])*100"
   ]
  },
  {
   "cell_type": "markdown",
   "id": "2d20af1b",
   "metadata": {},
   "source": [
    "#### This shows that 50 % of the people affected with the corona virus are men "
   ]
  },
  {
   "cell_type": "markdown",
   "id": "9b509a7b",
   "metadata": {},
   "source": [
    "## Which age group is mostly affected"
   ]
  },
  {
   "cell_type": "code",
   "execution_count": 11,
   "id": "c6905d1d",
   "metadata": {},
   "outputs": [
    {
     "data": {
      "text/plain": [
       "Age Bracket\n",
       "30.0    393\n",
       "28.0    362\n",
       "40.0    355\n",
       "32.0    354\n",
       "35.0    346\n",
       "45.0    344\n",
       "26.0    300\n",
       "27.0    292\n",
       "50.0    291\n",
       "25.0    290\n",
       "Name: Num Cases, dtype: int64"
      ]
     },
     "execution_count": 11,
     "metadata": {},
     "output_type": "execute_result"
    }
   ],
   "source": [
    "df_nonHosp.groupby('Age Bracket')['Num Cases'].sum().sort_values(ascending=False).head(10)"
   ]
  },
  {
   "cell_type": "code",
   "execution_count": 12,
   "id": "015d1ea1",
   "metadata": {},
   "outputs": [
    {
     "data": {
      "text/plain": [
       "<AxesSubplot:xlabel='Age Bracket'>"
      ]
     },
     "execution_count": 12,
     "metadata": {},
     "output_type": "execute_result"
    },
    {
     "data": {
      "image/png": "[encoded data removed]",
      "text/plain": [
       "<Figure size 432x288 with 1 Axes>"
      ]
     },
     "metadata": {
      "needs_background": "light"
     },
     "output_type": "display_data"
    }
   ],
   "source": [
    "df_nonHosp.groupby('Age Bracket')['Num Cases'].sum().sort_values(ascending=False).head(10).plot.bar()"
   ]
  },
  {
   "cell_type": "markdown",
   "id": "15caaf30",
   "metadata": {},
   "source": [
    "#### This concludes that the age affected the most rely between 25 to 50 "
   ]
  },
  {
   "cell_type": "markdown",
   "id": "e27a065a",
   "metadata": {},
   "source": [
    "## Total cases state vise"
   ]
  },
  {
   "cell_type": "code",
   "execution_count": 13,
   "id": "c55ea082",
   "metadata": {},
   "outputs": [
    {
     "data": {
      "text/plain": [
       "<AxesSubplot:xlabel='Detected State'>"
      ]
     },
     "execution_count": 13,
     "metadata": {},
     "output_type": "execute_result"
    },
    {
     "data": {
      "image/png": "[encoded data removed]",
      "text/plain": [
       "<Figure size 1080x360 with 1 Axes>"
      ]
     },
     "metadata": {
      "needs_background": "light"
     },
     "output_type": "display_data"
    }
   ],
   "source": [
    "df_nonHosp.groupby('Detected State')['Num Cases'].sum().sort_values(ascending=False).plot.bar(figsize=(15,5))"
   ]
  },
  {
   "cell_type": "markdown",
   "id": "10e6c48e",
   "metadata": {},
   "source": [
    "#### This shows that Maharashtra is the state that has mostly been affected"
   ]
  },
  {
   "cell_type": "markdown",
   "id": "de6f76f3",
   "metadata": {},
   "source": [
    "## Number of people deceased "
   ]
  },
  {
   "cell_type": "code",
   "execution_count": 14,
   "id": "7208eed1",
   "metadata": {},
   "outputs": [
    {
     "data": {
      "text/plain": [
       "3243"
      ]
     },
     "execution_count": 14,
     "metadata": {},
     "output_type": "execute_result"
    }
   ],
   "source": [
    "df['Num Cases'][df['Current Status']=='Deceased'].sum()"
   ]
  },
  {
   "cell_type": "markdown",
   "id": "e111ece1",
   "metadata": {},
   "source": [
    "## Number of People Deceased per state"
   ]
  },
  {
   "cell_type": "code",
   "execution_count": 15,
   "id": "69b96cce",
   "metadata": {},
   "outputs": [
    {
     "data": {
      "text/plain": [
       "Detected State\n",
       "Maharashtra                                 1395\n",
       "Tamil Nadu                                   435\n",
       "Delhi                                        423\n",
       "Karnataka                                    171\n",
       "West Bengal                                  136\n",
       "Uttar Pradesh                                130\n",
       "Gujarat                                      130\n",
       "Andhra Pradesh                                65\n",
       "Rajasthan                                     59\n",
       "Telangana                                     53\n",
       "Madhya Pradesh                                50\n",
       "Haryana                                       43\n",
       "Jammu and Kashmir                             42\n",
       "Punjab                                        31\n",
       "Bihar                                         30\n",
       "Odisha                                        22\n",
       "Jharkhand                                      7\n",
       "Goa                                            5\n",
       "Assam                                          4\n",
       "Kerala                                         3\n",
       "Puducherry                                     2\n",
       "Uttarakhand                                    2\n",
       "Dadra and Nagar Haveli and Daman and Diu       1\n",
       "Chhattisgarh                                   1\n",
       "Arunachal Pradesh                              1\n",
       "Himachal Pradesh                               1\n",
       "Chandigarh                                     1\n",
       "Name: Num Cases, dtype: int64"
      ]
     },
     "execution_count": 15,
     "metadata": {},
     "output_type": "execute_result"
    }
   ],
   "source": [
    "df[df['Current Status']=='Deceased'].groupby('Detected State')['Num Cases'].sum().sort_values(ascending=False)"
   ]
  },
  {
   "cell_type": "code",
   "execution_count": 16,
   "id": "e6e7f9aa",
   "metadata": {},
   "outputs": [
    {
     "data": {
      "text/plain": [
       "<AxesSubplot:xlabel='Detected State'>"
      ]
     },
     "execution_count": 16,
     "metadata": {},
     "output_type": "execute_result"
    },
    {
     "data": {
      "image/png": "[encoded data removed]",
      "text/plain": [
       "<Figure size 1080x360 with 1 Axes>"
      ]
     },
     "metadata": {
      "needs_background": "light"
     },
     "output_type": "display_data"
    }
   ],
   "source": [
    "df[df['Current Status']=='Deceased'].groupby('Detected State')['Num Cases'].sum().sort_values(ascending=False).plot.bar(figsize=(15,5))"
   ]
  },
  {
   "cell_type": "markdown",
   "id": "cc837243",
   "metadata": {},
   "source": [
    "#### With this we can conclude that most of the deaths has been in Maharashtra"
   ]
  },
  {
   "cell_type": "code",
   "execution_count": null,
   "id": "887fc271",
   "metadata": {},
   "outputs": [],
   "source": []
  }
 ],
 "metadata": {
  "kernelspec": {
   "display_name": "Python 3",
   "language": "python",
   "name": "python3"
  },
  "language_info": {
   "codemirror_mode": {
    "name": "ipython",
    "version": 3
   },
   "file_extension": ".py",
   "mimetype": "text/x-python",
   "name": "python",
   "nbconvert_exporter": "python",
   "pygments_lexer": "ipython3",
   "version": "3.8.8"
  }
 },
 "nbformat": 4,
 "nbformat_minor": 5
}
